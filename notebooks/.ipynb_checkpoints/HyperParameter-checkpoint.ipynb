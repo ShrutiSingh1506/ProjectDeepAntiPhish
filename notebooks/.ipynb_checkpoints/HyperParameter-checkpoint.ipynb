{
 "cells": [
  {
   "cell_type": "code",
   "execution_count": null,
   "metadata": {},
   "outputs": [],
   "source": [
    "pip install optuna"
   ]
  },
  {
   "cell_type": "code",
   "execution_count": 1,
   "metadata": {},
   "outputs": [],
   "source": [
    "# Import modules from main\n",
    "import sys\n",
    "import os\n",
    "repo_root = os.path.dirname(os.path.abspath(''))\n",
    "if repo_root not in sys.path:\n",
    "    sys.path.append(repo_root)"
   ]
  },
  {
   "cell_type": "code",
   "execution_count": 13,
   "metadata": {},
   "outputs": [
    {
     "name": "stdout",
     "output_type": "stream",
     "text": [
      "The autoreload extension is already loaded. To reload it, use:\n",
      "  %reload_ext autoreload\n"
     ]
    }
   ],
   "source": [
    "%load_ext autoreload\n",
    "%autoreload 2 "
   ]
  },
  {
   "cell_type": "code",
   "execution_count": 15,
   "metadata": {},
   "outputs": [],
   "source": [
    "%reload_ext autoreload"
   ]
  },
  {
   "cell_type": "code",
   "execution_count": 17,
   "metadata": {},
   "outputs": [],
   "source": [
    "from main.constants import *\n",
    "from main.hyperparameters import run\n",
    "from main.feature_engineering import process\n",
    "import joblib"
   ]
  },
  {
   "cell_type": "code",
   "execution_count": 21,
   "metadata": {},
   "outputs": [
    {
     "name": "stderr",
     "output_type": "stream",
     "text": [
      "/opt/anaconda3/lib/python3.12/site-packages/optuna/_experimental.py:31: ExperimentalWarning: Argument ``multivariate`` is an experimental feature. The interface can change in the future.\n",
      "  warnings.warn(\n",
      "[I 2025-05-03 17:17:25,365] A new study created in memory with name: hyperparams\n"
     ]
    },
    {
     "name": "stdout",
     "output_type": "stream",
     "text": [
      "---------------- Cycle: 01 / 02 -----------------------------\n",
      "---------------- Cycle: 01 / 02 -----------------------------\n",
      "Computed accuracy at epoch: 01/1 is: 56.60%\n",
      " \tCycle Model updated to new value:      Loss: 0.6943    | Accuracy: 56.60%    | Precision: 0.6282    | Recall: 0.8293    | F1-score: 0.7148\n",
      "    \n",
      " \tGlobal Model updated to new value:      Loss: 0.6943    | Accuracy: 56.60%    | Precision: 0.6282    | Recall: 0.8293    | F1-score: 0.7148\n",
      "    \n",
      "Computed accuracy at epoch: 01/2 is: 65.60%\n",
      " \tCycle Model updated to new value:      Loss: 0.6927    | Accuracy: 65.60%    | Precision: 0.6560    | Recall: 1.0000    | F1-score: 0.7923\n",
      "    \n",
      "\n",
      " Saved model at path: models/deep_antiphish_cycle00.pth with val_loss = 0.5660)\n",
      "---------------- Cycle: 02 / 02 -----------------------------\n",
      "Computed accuracy at epoch: 02/2 is: 65.80%\n",
      " \tCycle Model updated to new value:      Loss: 0.6925    | Accuracy: 65.80%    | Precision: 0.6573    | Recall: 1.0000    | F1-score: 0.7932\n",
      "    \n",
      " \tGlobal Model updated to new value:      Loss: 0.6925    | Accuracy: 65.80%    | Precision: 0.6573    | Recall: 1.0000    | F1-score: 0.7932\n",
      "    \n",
      "\n",
      " Saved model at path: models/deep_antiphish_cycle00.pth with val_loss = 0.6580)\n",
      "---------------- Cycle: 02 / 02 -----------------------------\n",
      "Computed accuracy at epoch: 01/1 is: 87.40%\n",
      " \tCycle Model updated to new value:      Loss: 0.6870    | Accuracy: 87.40%    | Precision: 0.8863    | Recall: 0.9268    | F1-score: 0.9061\n",
      "    \n",
      " \tGlobal Model updated to new value:      Loss: 0.6870    | Accuracy: 87.40%    | Precision: 0.8863    | Recall: 0.9268    | F1-score: 0.9061\n",
      "    \n",
      "Computed accuracy at epoch: 01/2 is: 72.20%\n",
      " \tCycle Model updated to new value:      Loss: 0.6874    | Accuracy: 72.20%    | Precision: 0.7024    | Recall: 1.0000    | F1-score: 0.8252\n",
      "    \n",
      "\n",
      " Saved model at path: models/deep_antiphish_cycle01.pth with val_loss = 0.8740)\n"
     ]
    },
    {
     "name": "stderr",
     "output_type": "stream",
     "text": [
      "/opt/anaconda3/lib/python3.12/site-packages/optuna/trial/_trial.py:497: UserWarning: The reported value is ignored because this `step` 1 is already reported.\n",
      "  warnings.warn(\n",
      "[I 2025-05-03 17:17:30,060] Trial 0 finished with value: 0.874 and parameters: {'cycles': 2, 'epochs_per_cycle': 1, 'lr': 0.008843141688167683, 'weight_decay': 0.005130844449605864}. Best is trial 0 with value: 0.874.\n"
     ]
    },
    {
     "name": "stdout",
     "output_type": "stream",
     "text": [
      "Computed accuracy at epoch: 02/2 is: 81.00%\n",
      " \tCycle Model updated to new value:      Loss: 0.6751    | Accuracy: 81.00%    | Precision: 0.7754    | Recall: 1.0000    | F1-score: 0.8735\n",
      "    \n",
      " \tGlobal Model updated to new value:      Loss: 0.6751    | Accuracy: 81.00%    | Precision: 0.7754    | Recall: 1.0000    | F1-score: 0.8735\n",
      "    \n",
      "\n",
      " Saved model at path: models/deep_antiphish_best_model.pth with val_loss = 0.8740)\n",
      " Generated HyperParameter Performance:      Loss: 0.6870    | Accuracy: 87.40%    | Precision: 0.8863    | Recall: 0.9268    | F1-score: 0.9061\n",
      "    \n",
      "\n",
      " Saved model at path: models/deep_antiphish_cycle01.pth with val_loss = 0.8100)\n"
     ]
    },
    {
     "name": "stderr",
     "output_type": "stream",
     "text": [
      "[I 2025-05-03 17:17:30,580] Trial 1 finished with value: 0.81 and parameters: {'cycles': 2, 'epochs_per_cycle': 2, 'lr': 0.002834838810623217, 'weight_decay': 0.0010624760702474822}. Best is trial 0 with value: 0.874.\n"
     ]
    },
    {
     "name": "stdout",
     "output_type": "stream",
     "text": [
      "\n",
      " Saved model at path: models/deep_antiphish_best_model.pth with val_loss = 0.8100)\n",
      " Generated HyperParameter Performance:      Loss: 0.6751    | Accuracy: 81.00%    | Precision: 0.7754    | Recall: 1.0000    | F1-score: 0.8735\n",
      "    \n"
     ]
    },
    {
     "ename": "FileNotFoundError",
     "evalue": "[Errno 2] No such file or directory: 'optuna/hyperparams2.pkl'",
     "output_type": "error",
     "traceback": [
      "\u001b[0;31m---------------------------------------------------------------------------\u001b[0m",
      "\u001b[0;31mFileNotFoundError\u001b[0m                         Traceback (most recent call last)",
      "Cell \u001b[0;32mIn[21], line 5\u001b[0m\n\u001b[1;32m      3\u001b[0m study \u001b[38;5;241m=\u001b[39m run(train_loader, test_loader)\n\u001b[1;32m      4\u001b[0m location \u001b[38;5;241m=\u001b[39m \u001b[38;5;124m'\u001b[39m\u001b[38;5;124moptuna/\u001b[39m\u001b[38;5;124m'\u001b[39m \u001b[38;5;241m+\u001b[39m OPTUNA_NAME \u001b[38;5;241m+\u001b[39m \u001b[38;5;124m'\u001b[39m\u001b[38;5;124m2.pkl\u001b[39m\u001b[38;5;124m'\u001b[39m\n\u001b[0;32m----> 5\u001b[0m joblib\u001b[38;5;241m.\u001b[39mdump(study, location)\n",
      "File \u001b[0;32m/opt/anaconda3/lib/python3.12/site-packages/joblib/numpy_pickle.py:552\u001b[0m, in \u001b[0;36mdump\u001b[0;34m(value, filename, compress, protocol, cache_size)\u001b[0m\n\u001b[1;32m    550\u001b[0m         NumpyPickler(f, protocol\u001b[38;5;241m=\u001b[39mprotocol)\u001b[38;5;241m.\u001b[39mdump(value)\n\u001b[1;32m    551\u001b[0m \u001b[38;5;28;01melif\u001b[39;00m is_filename:\n\u001b[0;32m--> 552\u001b[0m     \u001b[38;5;28;01mwith\u001b[39;00m \u001b[38;5;28mopen\u001b[39m(filename, \u001b[38;5;124m'\u001b[39m\u001b[38;5;124mwb\u001b[39m\u001b[38;5;124m'\u001b[39m) \u001b[38;5;28;01mas\u001b[39;00m f:\n\u001b[1;32m    553\u001b[0m         NumpyPickler(f, protocol\u001b[38;5;241m=\u001b[39mprotocol)\u001b[38;5;241m.\u001b[39mdump(value)\n\u001b[1;32m    554\u001b[0m \u001b[38;5;28;01melse\u001b[39;00m:\n",
      "\u001b[0;31mFileNotFoundError\u001b[0m: [Errno 2] No such file or directory: 'optuna/hyperparams2.pkl'"
     ]
    }
   ],
   "source": [
    "#Start the study here - Uncomment to run (can be skipped as well)\n",
    "#train_loader, test_loader = process(nrows=500, pathfix='../')\n",
    "study = run(train_loader, test_loader)\n",
    "location = 'optuna/' + OPTUNA_NAME + '.pkl'\n",
    "joblib.dump(study, location) \n",
    "# print(\"study saved at location: \" + location)"
   ]
  },
  {
   "cell_type": "code",
   "execution_count": 23,
   "metadata": {},
   "outputs": [
    {
     "data": {
      "text/plain": [
       "['optuna/hyperparams2.pkl']"
      ]
     },
     "execution_count": 23,
     "metadata": {},
     "output_type": "execute_result"
    }
   ],
   "source": [
    "location = 'optuna/' + OPTUNA_NAME + '2.pkl'\n",
    "joblib.dump(study, location) "
   ]
  },
  {
   "cell_type": "code",
   "execution_count": null,
   "metadata": {},
   "outputs": [],
   "source": [
    "import joblib, optuna\n",
    "# Load the study\n",
    "study = joblib.load(f\"../optuna/{OPTUNA_NAME}.pkl\") \n",
    "\n",
    "print(f\"Total trials    : {len(study.trials)}\")\n",
    "print(f\"Best value      : {study.best_value:.4f}\")\n",
    "\n",
    "print(\"Best parameters :\")\n",
    "for k, v in study.best_params.items():\n",
    "    print(f\"  {k:<18}: {v}\")\n",
    "\n",
    "print ('-----------------------------')\n",
    "print(\"Best accuracy   :\", study.best_value)\n",
    "print(\"Best hyper-params:\", study.best_params)\n",
    "best_hparams = study.best_params"
   ]
  },
  {
   "cell_type": "code",
   "execution_count": null,
   "metadata": {},
   "outputs": [],
   "source": [
    "# optimization history\n",
    "optuna.visualization.plot_optimization_history(study)"
   ]
  },
  {
   "cell_type": "code",
   "execution_count": null,
   "metadata": {},
   "outputs": [],
   "source": [
    "# pruning history\n",
    "optuna.visualization.plot_intermediate_values(study)"
   ]
  },
  {
   "cell_type": "code",
   "execution_count": null,
   "metadata": {},
   "outputs": [],
   "source": [
    "# slice plot\n",
    "optuna.visualization.plot_slice(study)"
   ]
  },
  {
   "cell_type": "code",
   "execution_count": null,
   "metadata": {},
   "outputs": [],
   "source": [
    "# contour plot\n",
    "optuna.visualization.plot_contour(study)"
   ]
  },
  {
   "cell_type": "code",
   "execution_count": null,
   "metadata": {},
   "outputs": [],
   "source": [
    "# parallel coordinate plot\n",
    "optuna.visualization.plot_parallel_coordinate(study)"
   ]
  }
 ],
 "metadata": {
  "kernelspec": {
   "display_name": "Python [conda env:base] *",
   "language": "python",
   "name": "conda-base-py"
  },
  "language_info": {
   "codemirror_mode": {
    "name": "ipython",
    "version": 3
   },
   "file_extension": ".py",
   "mimetype": "text/x-python",
   "name": "python",
   "nbconvert_exporter": "python",
   "pygments_lexer": "ipython3",
   "version": "3.12.2"
  }
 },
 "nbformat": 4,
 "nbformat_minor": 4
}

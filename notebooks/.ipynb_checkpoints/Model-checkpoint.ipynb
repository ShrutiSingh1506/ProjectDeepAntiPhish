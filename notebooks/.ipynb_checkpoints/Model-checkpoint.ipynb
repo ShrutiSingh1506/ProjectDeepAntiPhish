{
 "cells": [
  {
   "cell_type": "code",
   "execution_count": 1,
   "metadata": {},
   "outputs": [],
   "source": [
    "# Import modules from main\n",
    "import sys\n",
    "import os\n",
    "repo_root = os.path.dirname(os.path.abspath(''))\n",
    "if repo_root not in sys.path:\n",
    "    sys.path.append(repo_root)"
   ]
  },
  {
   "cell_type": "code",
   "execution_count": 2,
   "metadata": {},
   "outputs": [],
   "source": [
    "# %load_ext autoreload\n",
    "# %autoreload 2 \n",
    "# %reload_ext autoreload"
   ]
  },
  {
   "cell_type": "code",
   "execution_count": 22,
   "metadata": {},
   "outputs": [],
   "source": [
    "%reload_ext autoreload"
   ]
  },
  {
   "cell_type": "code",
   "execution_count": 24,
   "metadata": {},
   "outputs": [],
   "source": [
    "## Importing the required libraries\n",
    "from main.model import DeepAntiPhish\n",
    "from main.feature_engineering import process, imbalance_ratio\n",
    "from main.runners import training\n",
    "from main.helpers import get_feature_count, prettyPrintMetrics, compute_metrics\n",
    "from main.reporting import *"
   ]
  },
  {
   "cell_type": "code",
   "execution_count": 5,
   "metadata": {},
   "outputs": [
    {
     "name": "stderr",
     "output_type": "stream",
     "text": [
      "[Parallel(n_jobs=-1)]: Using backend LokyBackend with 8 concurrent workers.\n",
      "[Parallel(n_jobs=-1)]: Done   2 out of  13 | elapsed:    4.0s remaining:   22.0s\n",
      "[Parallel(n_jobs=-1)]: Done   6 out of  13 | elapsed:    4.3s remaining:    5.0s\n",
      "[Parallel(n_jobs=-1)]: Done  10 out of  13 | elapsed:    5.0s remaining:    1.5s\n",
      "[Parallel(n_jobs=-1)]: Done  13 out of  13 | elapsed:  9.3min finished\n"
     ]
    }
   ],
   "source": [
    "# Initiate the training and test loader\n",
    "train_loader, test_loader = process(pathfix='../')"
   ]
  },
  {
   "cell_type": "code",
   "execution_count": 6,
   "metadata": {},
   "outputs": [],
   "source": [
    "import warnings\n",
    "warnings.filterwarnings('ignore')\n",
    "%config Application.log_level = 'ERROR'"
   ]
  },
  {
   "cell_type": "code",
   "execution_count": 7,
   "metadata": {},
   "outputs": [
    {
     "name": "stdout",
     "output_type": "stream",
     "text": [
      "---------------- Cycle: 01 / 06 -----------------------------\n",
      "Computed accuracy at epoch: 01/8 is: 87.38%\n",
      " \tCycle Model updated to new value:      Loss: 0.3447    | Accuracy: 87.38%    | Precision: 1.0000    | Recall: 0.8432    | F1-score: 0.9149\n",
      "    \n",
      "Computed accuracy at epoch: 02/8 is: 87.41%\n",
      " \tCycle Model updated to new value:      Loss: 0.2880    | Accuracy: 87.41%    | Precision: 1.0000    | Recall: 0.8435    | F1-score: 0.9151\n",
      "    \n",
      "Computed accuracy at epoch: 03/8 is: 87.42%\n",
      " \tCycle Model updated to new value:      Loss: 0.2661    | Accuracy: 87.42%    | Precision: 1.0000    | Recall: 0.8436    | F1-score: 0.9151\n",
      "    \n",
      "Computed accuracy at epoch: 04/8 is: 87.42%\n",
      " \tCycle Model updated to new value:      Loss: 0.2556    | Accuracy: 87.42%    | Precision: 1.0000    | Recall: 0.8436    | F1-score: 0.9152\n",
      "    \n",
      "Computed accuracy at epoch: 05/8 is: 87.41%\n",
      "Computed accuracy at epoch: 06/8 is: 87.43%\n",
      " \tCycle Model updated to new value:      Loss: 0.2483    | Accuracy: 87.43%    | Precision: 1.0000    | Recall: 0.8437    | F1-score: 0.9152\n",
      "    \n",
      "Computed accuracy at epoch: 07/8 is: 87.43%\n",
      " \tCycle Model updated to new value:      Loss: 0.2474    | Accuracy: 87.43%    | Precision: 1.0000    | Recall: 0.8438    | F1-score: 0.9153\n",
      "    \n",
      "Computed accuracy at epoch: 08/8 is: 87.44%\n",
      " \tCycle Model updated to new value:      Loss: 0.2468    | Accuracy: 87.44%    | Precision: 1.0000    | Recall: 0.8438    | F1-score: 0.9153\n",
      "    \n",
      " \tGlobal Model updated to new value:      Loss: 0.2468    | Accuracy: 87.44%    | Precision: 1.0000    | Recall: 0.8438    | F1-score: 0.9153\n",
      "    \n",
      "\n",
      " Saved model at path: models/deep_antiphish_best_model.pth with val_loss = 0.8744)\n",
      "\n",
      " Saved model at path: models/deep_antiphish_cycle00.pth with val_loss = 0.8744)\n",
      "---------------- Cycle: 02 / 06 -----------------------------\n",
      "Computed accuracy at epoch: 01/8 is: 94.64%\n",
      " \tCycle Model updated to new value:      Loss: 0.1582    | Accuracy: 94.64%    | Precision: 0.9988    | Recall: 0.9345    | F1-score: 0.9656\n",
      "    \n",
      "Computed accuracy at epoch: 02/8 is: 96.23%\n",
      " \tCycle Model updated to new value:      Loss: 0.1397    | Accuracy: 96.23%    | Precision: 0.9998    | Recall: 0.9533    | F1-score: 0.9760\n",
      "    \n",
      "Computed accuracy at epoch: 03/8 is: 97.07%\n",
      " \tCycle Model updated to new value:      Loss: 0.1115    | Accuracy: 97.07%    | Precision: 0.9998    | Recall: 0.9638    | F1-score: 0.9815\n",
      "    \n",
      "Computed accuracy at epoch: 04/8 is: 94.49%\n",
      "Computed accuracy at epoch: 05/8 is: 92.72%\n",
      "Computed accuracy at epoch: 06/8 is: 91.06%\n",
      "Computed accuracy at epoch: 07/8 is: 94.29%\n",
      "Computed accuracy at epoch: 08/8 is: 95.09%\n",
      " \tGlobal Model updated to new value:      Loss: 0.1115    | Accuracy: 97.07%    | Precision: 0.9998    | Recall: 0.9638    | F1-score: 0.9815\n",
      "    \n",
      "\n",
      " Saved model at path: models/deep_antiphish_best_model.pth with val_loss = 0.9707)\n",
      "\n",
      " Saved model at path: models/deep_antiphish_cycle01.pth with val_loss = 0.9707)\n",
      "---------------- Cycle: 03 / 06 -----------------------------\n",
      "Computed accuracy at epoch: 01/8 is: 93.75%\n",
      " \tCycle Model updated to new value:      Loss: 0.1546    | Accuracy: 93.75%    | Precision: 0.9998    | Recall: 0.9224    | F1-score: 0.9596\n",
      "    \n",
      "Computed accuracy at epoch: 02/8 is: 95.18%\n",
      " \tCycle Model updated to new value:      Loss: 0.1283    | Accuracy: 95.18%    | Precision: 0.9999    | Recall: 0.9402    | F1-score: 0.9691\n",
      "    \n",
      "Computed accuracy at epoch: 03/8 is: 95.12%\n",
      "Computed accuracy at epoch: 04/8 is: 93.74%\n",
      "Computed accuracy at epoch: 05/8 is: 93.71%\n",
      "Computed accuracy at epoch: 06/8 is: 94.83%\n",
      "Computed accuracy at epoch: 07/8 is: 95.64%\n",
      " \tCycle Model updated to new value:      Loss: 0.1194    | Accuracy: 95.64%    | Precision: 0.9999    | Recall: 0.9459    | F1-score: 0.9721\n",
      "    \n",
      "Computed accuracy at epoch: 08/8 is: 96.14%\n",
      " \tCycle Model updated to new value:      Loss: 0.1122    | Accuracy: 96.14%    | Precision: 0.9999    | Recall: 0.9522    | F1-score: 0.9754\n",
      "    \n",
      "\n",
      " Saved model at path: models/deep_antiphish_cycle02.pth with val_loss = 0.9614)\n",
      "---------------- Cycle: 04 / 06 -----------------------------\n",
      "Computed accuracy at epoch: 01/8 is: 93.41%\n",
      " \tCycle Model updated to new value:      Loss: 0.1639    | Accuracy: 93.41%    | Precision: 0.9998    | Recall: 0.9183    | F1-score: 0.9573\n",
      "    \n",
      "Computed accuracy at epoch: 02/8 is: 93.26%\n",
      "Computed accuracy at epoch: 03/8 is: 92.62%\n",
      "Computed accuracy at epoch: 04/8 is: 96.47%\n",
      " \tCycle Model updated to new value:      Loss: 0.1021    | Accuracy: 96.47%    | Precision: 0.9997    | Recall: 0.9564    | F1-score: 0.9776\n",
      "    \n",
      "Computed accuracy at epoch: 05/8 is: 95.76%\n",
      "Computed accuracy at epoch: 06/8 is: 96.00%\n",
      "Computed accuracy at epoch: 07/8 is: 93.07%\n",
      "Computed accuracy at epoch: 08/8 is: 93.93%\n",
      "\n",
      " Saved model at path: models/deep_antiphish_cycle03.pth with val_loss = 0.9647)\n",
      "---------------- Cycle: 05 / 06 -----------------------------\n",
      "Computed accuracy at epoch: 01/8 is: 91.23%\n",
      " \tCycle Model updated to new value:      Loss: 0.2454    | Accuracy: 91.23%    | Precision: 0.9998    | Recall: 0.8911    | F1-score: 0.9424\n",
      "    \n",
      "Computed accuracy at epoch: 02/8 is: 92.99%\n",
      " \tCycle Model updated to new value:      Loss: 0.2081    | Accuracy: 92.99%    | Precision: 0.9998    | Recall: 0.9130    | F1-score: 0.9544\n",
      "    \n",
      "Computed accuracy at epoch: 03/8 is: 93.79%\n",
      " \tCycle Model updated to new value:      Loss: 0.1815    | Accuracy: 93.79%    | Precision: 0.9998    | Recall: 0.9229    | F1-score: 0.9598\n",
      "    \n",
      "Computed accuracy at epoch: 04/8 is: 88.78%\n",
      "Computed accuracy at epoch: 05/8 is: 96.13%\n",
      " \tCycle Model updated to new value:      Loss: 0.1171    | Accuracy: 96.13%    | Precision: 0.9998    | Recall: 0.9521    | F1-score: 0.9754\n",
      "    \n",
      "Computed accuracy at epoch: 06/8 is: 93.61%\n",
      "Computed accuracy at epoch: 07/8 is: 92.60%\n",
      "Computed accuracy at epoch: 08/8 is: 94.26%\n",
      "\n",
      " Saved model at path: models/deep_antiphish_cycle04.pth with val_loss = 0.9613)\n",
      "---------------- Cycle: 06 / 06 -----------------------------\n",
      "Computed accuracy at epoch: 01/8 is: 94.61%\n",
      " \tCycle Model updated to new value:      Loss: 0.1684    | Accuracy: 94.61%    | Precision: 0.9999    | Recall: 0.9331    | F1-score: 0.9653\n",
      "    \n",
      "Computed accuracy at epoch: 02/8 is: 94.70%\n",
      " \tCycle Model updated to new value:      Loss: 0.1647    | Accuracy: 94.70%    | Precision: 0.9999    | Recall: 0.9343    | F1-score: 0.9660\n",
      "    \n",
      "Computed accuracy at epoch: 03/8 is: 93.71%\n",
      "Computed accuracy at epoch: 04/8 is: 92.61%\n",
      "Computed accuracy at epoch: 05/8 is: 93.09%\n",
      "Computed accuracy at epoch: 06/8 is: 93.00%\n",
      "Computed accuracy at epoch: 07/8 is: 92.19%\n",
      "Computed accuracy at epoch: 08/8 is: 92.12%\n",
      "\n",
      " Saved model at path: models/deep_antiphish_cycle05.pth with val_loss = 0.9470)\n"
     ]
    },
    {
     "ename": "KeyError",
     "evalue": "0",
     "output_type": "error",
     "traceback": [
      "\u001b[0;31m---------------------------------------------------------------------------\u001b[0m",
      "\u001b[0;31mKeyError\u001b[0m                                  Traceback (most recent call last)",
      "Cell \u001b[0;32mIn[7], line 10\u001b[0m\n\u001b[1;32m      3\u001b[0m model \u001b[38;5;241m=\u001b[39m DeepAntiPhish(input_dims\u001b[38;5;241m=\u001b[39mget_feature_count(train_loader))\n\u001b[1;32m      4\u001b[0m modelPerformance \u001b[38;5;241m=\u001b[39m training(model, train_loader, test_loader, \n\u001b[1;32m      5\u001b[0m                          pos_neg_ratio\u001b[38;5;241m=\u001b[39mratio,\n\u001b[1;32m      6\u001b[0m                          cycles\u001b[38;5;241m=\u001b[39m\u001b[38;5;241m6\u001b[39m, \n\u001b[1;32m      7\u001b[0m                          epochs_per_cycle\u001b[38;5;241m=\u001b[39m\u001b[38;5;241m8\u001b[39m,\n\u001b[1;32m      8\u001b[0m                          lr\u001b[38;5;241m=\u001b[39m\u001b[38;5;241m3e-3\u001b[39m,\n\u001b[1;32m      9\u001b[0m                          weight_decay\u001b[38;5;241m=\u001b[39m\u001b[38;5;241m2e-3\u001b[39m)\n\u001b[0;32m---> 10\u001b[0m modelPerformance[\u001b[38;5;241m0\u001b[39m]\n",
      "\u001b[0;31mKeyError\u001b[0m: 0"
     ]
    }
   ],
   "source": [
    "# Initialize model and commence training\n",
    "ratio = imbalance_ratio(train_loader)\n",
    "model = DeepAntiPhish(input_dims=get_feature_count(train_loader))\n",
    "modelPerformance = training(model, train_loader, test_loader, \n",
    "                         pos_neg_ratio=ratio,\n",
    "                         cycles=6, \n",
    "                         epochs_per_cycle=8,\n",
    "                         lr=2e-3,\n",
    "                         weight_decay=1e-2)\n",
    "modelPerformance"
   ]
  },
  {
   "cell_type": "code",
   "execution_count": 16,
   "metadata": {},
   "outputs": [
    {
     "data": {
      "text/plain": [
       "{'average_loss': 0.1115066206680154,\n",
       " 'accuracy': 0.970699450498277,\n",
       " 'precision': 0.9997838305231301,\n",
       " 'recall': 0.9637870754127208,\n",
       " 'f1': 0.981455501455973,\n",
       " 'conf_matrix': array([[10487,     9],\n",
       "        [ 1564, 41625]]),\n",
       " 'report': '              precision    recall  f1-score   support\\n\\n           0       0.87      1.00      0.93     10496\\n           1       1.00      0.96      0.98     43189\\n\\n    accuracy                           0.97     53685\\n   macro avg       0.94      0.98      0.96     53685\\nweighted avg       0.97      0.97      0.97     53685\\n'}"
      ]
     },
     "execution_count": 16,
     "metadata": {},
     "output_type": "execute_result"
    }
   ],
   "source": [
    "modelPerformance"
   ]
  },
  {
   "cell_type": "code",
   "execution_count": 14,
   "metadata": {},
   "outputs": [
    {
     "name": "stdout",
     "output_type": "stream",
     "text": [
      " Performance:      Loss: 0.1322    | Accuracy: 95.09%    | Precision: 0.9999    | Recall: 0.9391    | F1-score: 0.9685\n",
      "    \n",
      "\n",
      " Confusion Matrix:\n",
      " [[10490     6]\n",
      " [ 2630 40559]]\n",
      "\n",
      " Classification Report:\n",
      "               precision    recall  f1-score   support\n",
      "\n",
      "           0       0.80      1.00      0.89     10496\n",
      "           1       1.00      0.94      0.97     43189\n",
      "\n",
      "    accuracy                           0.95     53685\n",
      "   macro avg       0.90      0.97      0.93     53685\n",
      "weighted avg       0.96      0.95      0.95     53685\n",
      "\n"
     ]
    }
   ],
   "source": [
    "# Evaluation of the best model\n",
    "path = \"models/\" + \"deep_antiphish_best_model.pth\"\n",
    "y_true, y_preds = evaluate_model(test_loader, model, path)"
   ]
  },
  {
   "cell_type": "code",
   "execution_count": null,
   "metadata": {},
   "outputs": [],
   "source": [
    "# ROC Curve\n",
    "y_probs = plot_roc_curve(test_loader, model, y_true)"
   ]
  },
  {
   "cell_type": "code",
   "execution_count": null,
   "metadata": {},
   "outputs": [],
   "source": [
    "# Confusion Matrix\n",
    "_ = plot_confusion_matrix(y_true, y_preds)"
   ]
  },
  {
   "cell_type": "code",
   "execution_count": null,
   "metadata": {},
   "outputs": [],
   "source": [
    "# Precision-Recall Curve\n",
    "plot_precision_recall_curve(y_true, y_probs)"
   ]
  },
  {
   "cell_type": "code",
   "execution_count": null,
   "metadata": {},
   "outputs": [],
   "source": [
    "# Model Performance (Batch wise)\n",
    "plot_model_perf_batchwise(model, criterion, test_loader)"
   ]
  },
  {
   "cell_type": "code",
   "execution_count": null,
   "metadata": {},
   "outputs": [],
   "source": [
    "fp_fn_feature_distribution(df, y_true, y_pred, y_prob)"
   ]
  }
 ],
 "metadata": {
  "kernelspec": {
   "display_name": "Python [conda env:base] *",
   "language": "python",
   "name": "conda-base-py"
  },
  "language_info": {
   "codemirror_mode": {
    "name": "ipython",
    "version": 3
   },
   "file_extension": ".py",
   "mimetype": "text/x-python",
   "name": "python",
   "nbconvert_exporter": "python",
   "pygments_lexer": "ipython3",
   "version": "3.12.2"
  }
 },
 "nbformat": 4,
 "nbformat_minor": 4
}
